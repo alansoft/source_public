{
 "cells": [
  {
   "cell_type": "code",
   "execution_count": 3,
   "metadata": {},
   "outputs": [
    {
     "name": "stdout",
     "output_type": "stream",
     "text": [
      "(1, 2, 3)\n",
      "[1, 2, 3]\n"
     ]
    }
   ],
   "source": [
    "x=(1,2,3)\n",
    "y=[i for i in x]\n",
    "print(x)\n",
    "print(y)"
   ]
  },
  {
   "cell_type": "markdown",
   "metadata": {},
   "source": [
    "$\\delta^{(n)}=\\frac{dL}{d\\bf{z}^{(n)}}=-\\bf{y}\\circ (1-\\bf{sigmoid}\\ \\bf{z}^{(n)})+(1-y)\\circ\\bf{sigmoid}\\ \\bf{z}^{(n)}$\n",
    "\n",
    "${{\\bf{\\delta }}^{(n)}} = \\frac{{d\\,{\\mathop{\\rm Loss}\\nolimits} }}{{d{{\\bf{z}}^{(n)}}}} =  - {\\bf{y}} \\circ (1 - {\\mathop{\\rm sigmoid}\\nolimits} {{\\bf{z}}^{(n)}}) + (1 - {\\bf{y}}) \\circ {\\mathop{\\rm sigmoid}\\nolimits} {{\\bf{z}}^{(n)}}$\n",
    "\n",
    "$a^{x}_{2}$"
   ]
  }
 ],
 "metadata": {
  "kernelspec": {
   "display_name": "Python 3",
   "language": "python",
   "name": "python3"
  },
  "language_info": {
   "codemirror_mode": {
    "name": "ipython",
    "version": 3
   },
   "file_extension": ".py",
   "mimetype": "text/x-python",
   "name": "python",
   "nbconvert_exporter": "python",
   "pygments_lexer": "ipython3",
   "version": "3.7.6"
  }
 },
 "nbformat": 4,
 "nbformat_minor": 4
}
